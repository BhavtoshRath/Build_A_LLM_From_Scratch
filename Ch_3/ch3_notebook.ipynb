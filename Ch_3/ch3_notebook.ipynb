{
 "cells": [
  {
   "cell_type": "markdown",
   "metadata": {},
   "source": [
    "### Preparing Inputs for LLMs\n",
    "We’ve completed preparing the input to be fed into large language models (LLMs).\n",
    "\n",
    "### Attention Mechanisms\n",
    "Now, let’s explore the **attention mechanism** in detail.\n",
    "\n",
    "We will implement four types of attention mechanisms:\n",
    "1. **Simplified self-attention**\n",
    "2. **Self-attention**\n",
    "3. **Causal attention**\n",
    "4. **Multi-head attention**\n"
   ]
  },
  {
   "cell_type": "markdown",
   "metadata": {},
   "source": [
    "### Section 3.1 (The problem with modelling long sequences)"
   ]
  },
  {
   "cell_type": "markdown",
   "metadata": {},
   "source": [
    "### The Problem with Pre-LLM Architectures Without Self-Attention  \n",
    "\n",
    "Before the introduction of self-attention, **Recurrent Neural Networks (RNNs)** were the state-of-the-art (SOTA) for tasks like language translation.  \n",
    "\n",
    "In RNN-based architectures:  \n",
    "- The encoder processes the entire input sequence into a final hidden state (along with intermediate hidden states after each input word).  \n",
    "- The decoder uses this final hidden state to generate the output sequence.  \n",
    "\n",
    "**Key limitation:** The decoder primarily relies on the final hidden state of the encoder, ignoring intermediate hidden states. This often results in a **loss of context**, especially for longer input sequences, as critical information from earlier parts of the input may not be\n"
   ]
  },
  {
   "cell_type": "markdown",
   "metadata": {},
   "source": [
    "### Section 3.2 (Capturing data dependencies with attention mechanisms)"
   ]
  },
  {
   "cell_type": "markdown",
   "metadata": {},
   "source": [
    "### Evolution of Attention Mechanisms  \n",
    "\n",
    "An improvement over the basic RNN encoder-decoder architecture was the **Bahdanau attention mechanism** (2014), which allowed the decoder to selectively access different parts of the input sequence.  \n",
    "\n",
    "Three years later, the paper *\"Attention Is All You Need\"* (2017) introduced the **Transformer architecture**, a significant improvement over the 2014 model.  \n"
   ]
  },
  {
   "cell_type": "markdown",
   "metadata": {},
   "source": [
    "### Section 3.3 (Attending to different parts of the input with self-attention)"
   ]
  },
  {
   "cell_type": "markdown",
   "metadata": {},
   "source": [
    "### Understanding Self-Attention  \n",
    "\n",
    "#### What is \"self\" in self-attention?  \n",
    "\"Self\" refers to the model's ability to learn relationships and dependencies between various parts of the input (e.g., words in a sentence).  \n",
    "This is in contrast to traditional attention models, which focus on relationships between two different sequences (e.g., in sequence-to-sequence models).  \n",
    "\n",
    "#### What is the goal of self-attention?  \n",
    "The goal of self-attention is to compute a **context vector** for every token in the input sequence.  \n",
    "\n",
    "#### What is a context vector?  \n",
    "A **context vector** is generated for each input element by combining information from other input elements. Each element contributes to the context vector based on its **attention score**.  \n",
    "\n",
    "#### How is the attention score for a token computed?  \n",
    "The attention score for a token `t` in the input sentence is computed by performing the **dot product** of that token's representation (called the **query**) with the representations of all other tokens in the input sequence.  \n"
   ]
  },
  {
   "cell_type": "markdown",
   "metadata": {},
   "source": [
    "Below is an example sentence. Each token in the sentence has an embedding. Below are steps to obtain query vector for a token:"
   ]
  },
  {
   "cell_type": "code",
   "execution_count": 5,
   "metadata": {},
   "outputs": [],
   "source": [
    "import torch\n",
    "\n",
    "inputs = torch.tensor(\n",
    "  [[0.43, 0.15, 0.89], # Your     (x^1)\n",
    "   [0.55, 0.87, 0.66], # journey  (x^2)\n",
    "   [0.57, 0.85, 0.64], # starts   (x^3)\n",
    "   [0.22, 0.58, 0.33], # with     (x^4)\n",
    "   [0.77, 0.25, 0.10], # one      (x^5)\n",
    "   [0.05, 0.80, 0.55]] # step     (x^6)\n",
    ")"
   ]
  },
  {
   "cell_type": "markdown",
   "metadata": {},
   "source": [
    "Step 1: We compute the attention scores for token 'journey' (the query) by computing its dot product with all tokens in the input sequence."
   ]
  },
  {
   "cell_type": "code",
   "execution_count": 2,
   "metadata": {},
   "outputs": [
    {
     "name": "stdout",
     "output_type": "stream",
     "text": [
      "tensor([0.9544, 1.4950, 1.4754, 0.8434, 0.7070, 1.0865])\n"
     ]
    }
   ],
   "source": [
    "query = inputs[1]  # 'journey' is the query\n",
    "\n",
    "attn_scores_2 = torch.empty(inputs.shape[0])\n",
    "for i, x_i in enumerate(inputs):\n",
    "    attn_scores_2[i] = torch.dot(x_i, query) # dot product (transpose not necessary here since they are 1-dim vectors)\n",
    "\n",
    "print(attn_scores_2)"
   ]
  },
  {
   "cell_type": "markdown",
   "metadata": {},
   "source": [
    "Step 2: We normalize the attention scores using 'softmax' for interpretability and to maintain training stability."
   ]
  },
  {
   "cell_type": "code",
   "execution_count": 7,
   "metadata": {},
   "outputs": [
    {
     "name": "stdout",
     "output_type": "stream",
     "text": [
      "Attention weights: tensor([0.1385, 0.2379, 0.2333, 0.1240, 0.1082, 0.1581])\n",
      "Sum: tensor(1.)\n"
     ]
    }
   ],
   "source": [
    "attn_weights_2 = torch.softmax(attn_scores_2, dim=0)\n",
    "\n",
    "print(\"Attention weights:\", attn_weights_2)\n",
    "print(\"Sum:\", attn_weights_2.sum())"
   ]
  },
  {
   "cell_type": "markdown",
   "metadata": {},
   "source": [
    "Step 3: Now we compute context vector of token 'journey' by multiplying attention score with corresponding token embeddings of all tokens in the input sentence.\n"
   ]
  },
  {
   "cell_type": "code",
   "execution_count": 8,
   "metadata": {},
   "outputs": [
    {
     "name": "stdout",
     "output_type": "stream",
     "text": [
      "tensor([0.4419, 0.6515, 0.5683])\n"
     ]
    }
   ],
   "source": [
    "query = inputs[1] # 2nd input token is the query\n",
    "\n",
    "context_vec_2 = torch.zeros(query.shape)\n",
    "for i,x_i in enumerate(inputs):\n",
    "    context_vec_2 += attn_weights_2[i]*x_i\n",
    "\n",
    "print(context_vec_2)"
   ]
  },
  {
   "cell_type": "code",
   "execution_count": null,
   "metadata": {},
   "outputs": [],
   "source": []
  }
 ],
 "metadata": {
  "kernelspec": {
   "display_name": "env1",
   "language": "python",
   "name": "env1"
  },
  "language_info": {
   "codemirror_mode": {
    "name": "ipython",
    "version": 3
   },
   "file_extension": ".py",
   "mimetype": "text/x-python",
   "name": "python",
   "nbconvert_exporter": "python",
   "pygments_lexer": "ipython3",
   "version": "3.9.21"
  }
 },
 "nbformat": 4,
 "nbformat_minor": 4
}
