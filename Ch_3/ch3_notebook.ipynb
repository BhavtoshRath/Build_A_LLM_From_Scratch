{
 "cells": [
  {
   "cell_type": "markdown",
   "metadata": {},
   "source": [
    "### Preparing Inputs for LLMs\n",
    "We’ve completed preparing the input to be fed into large language models (LLMs).\n",
    "\n",
    "### Attention Mechanisms\n",
    "Now, let’s explore the **attention mechanism** in detail.\n",
    "\n",
    "We will implement four types of attention mechanisms:\n",
    "1. **Simplified self-attention**\n",
    "2. **Self-attention**\n",
    "3. **Causal attention**\n",
    "4. **Multi-head attention**\n"
   ]
  },
  {
   "cell_type": "markdown",
   "metadata": {},
   "source": [
    "### Section 3.1 (The problem with modelling long sequences)"
   ]
  },
  {
   "cell_type": "markdown",
   "metadata": {},
   "source": [
    "### The Problem with Pre-LLM Architectures Without Self-Attention  \n",
    "\n",
    "Before the introduction of self-attention, **Recurrent Neural Networks (RNNs)** were the state-of-the-art (SOTA) for tasks like language translation.  \n",
    "\n",
    "In RNN-based architectures:  \n",
    "- The encoder processes the entire input sequence into a final hidden state (along with intermediate hidden states after each input word).  \n",
    "- The decoder uses this final hidden state to generate the output sequence.  \n",
    "\n",
    "**Key limitation:** The decoder primarily relies on the final hidden state of the encoder, ignoring intermediate hidden states. This often results in a **loss of context**, especially for longer input sequences, as critical information from earlier parts of the input may not be\n"
   ]
  },
  {
   "cell_type": "markdown",
   "metadata": {},
   "source": [
    "### Section 3.2 (Capturing data dependencies with attention mechanisms)"
   ]
  },
  {
   "cell_type": "markdown",
   "metadata": {},
   "source": [
    "An improvement over the basic RNN encoder-decoder architecture was the Bahdanau attention mechanism developed in 2014 (it allows decoder to selectively access different parts of the input sequence). 3 years later 'Attention is all you need' proposed the original transformer architecture which was an immprovement over the 2014 model."
   ]
  }
 ],
 "metadata": {
  "kernelspec": {
   "display_name": "Python 3",
   "language": "python",
   "name": "python3"
  },
  "language_info": {
   "codemirror_mode": {
    "name": "ipython",
    "version": 3
   },
   "file_extension": ".py",
   "mimetype": "text/x-python",
   "name": "python",
   "nbconvert_exporter": "python",
   "pygments_lexer": "ipython3",
   "version": "3.7.6"
  }
 },
 "nbformat": 4,
 "nbformat_minor": 4
}
