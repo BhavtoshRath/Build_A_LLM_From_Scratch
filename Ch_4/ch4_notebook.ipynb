{
 "cells": [
  {
   "cell_type": "markdown",
   "metadata": {},
   "source": [
    "### LLM Goal  \n",
    "The goal of a Language Model (LLM) is to generate the next token (word) one at a time.  \n",
    "The model architecture is streamlined to be less complicated, focusing on efficiency rather than sheer size.\n",
    "\n",
    "---\n",
    "\n",
    "### Steps to Code the GPT Architecture  \n",
    "\n",
    "1. **GPT Backbone**  \n",
    "   - Create a placeholder model to outline the overall structure of the GPT model.\n",
    "\n",
    "2. **Building Blocks**  \n",
    "   - Implement the following foundational components:  \n",
    "     - **Layer Normalization**  \n",
    "     - **GELU Activation**  \n",
    "     - **Feedforward Network (FFN)**  \n",
    "     - **Shortcut Connections**\n",
    "\n",
    "3. **Transformer Block**  \n",
    "   - Combine the building blocks from Step 2 with the attention module to create a single transformer block.\n",
    "\n",
    "4. **Final GPT Architecture**  \n",
    "   - Assemble the final GPT model using multiple transformer blocks.\n",
    "\n",
    "---\n"
   ]
  },
  {
   "cell_type": "code",
   "execution_count": null,
   "metadata": {},
   "outputs": [],
   "source": []
  }
 ],
 "metadata": {
  "kernelspec": {
   "display_name": "Python 3",
   "language": "python",
   "name": "python3"
  },
  "language_info": {
   "codemirror_mode": {
    "name": "ipython",
    "version": 3
   },
   "file_extension": ".py",
   "mimetype": "text/x-python",
   "name": "python",
   "nbconvert_exporter": "python",
   "pygments_lexer": "ipython3",
   "version": "3.7.6"
  }
 },
 "nbformat": 4,
 "nbformat_minor": 4
}
